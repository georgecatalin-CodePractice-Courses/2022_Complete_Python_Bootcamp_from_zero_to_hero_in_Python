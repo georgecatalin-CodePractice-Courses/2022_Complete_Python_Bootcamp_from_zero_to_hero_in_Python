{
 "cells": [
  {
   "cell_type": "code",
   "execution_count": 2,
   "id": "d3a3ed0b",
   "metadata": {},
   "outputs": [],
   "source": [
    "my_list =[]\n",
    "for character in \"word\":\n",
    "    my_list.append(character)"
   ]
  },
  {
   "cell_type": "code",
   "execution_count": 3,
   "id": "9aaaadff",
   "metadata": {},
   "outputs": [
    {
     "data": {
      "text/plain": [
       "['w', 'o', 'r', 'd']"
      ]
     },
     "execution_count": 3,
     "metadata": {},
     "output_type": "execute_result"
    }
   ],
   "source": [
    "my_list"
   ]
  },
  {
   "cell_type": "markdown",
   "id": "2a28cfca",
   "metadata": {},
   "source": [
    "Same thing can be written with List Comprehensions notations:"
   ]
  },
  {
   "cell_type": "code",
   "execution_count": 4,
   "id": "6ca5d3ea",
   "metadata": {},
   "outputs": [],
   "source": [
    "my_list_with_comprehension = [character for character in \"word\"]"
   ]
  },
  {
   "cell_type": "code",
   "execution_count": 5,
   "id": "042d0003",
   "metadata": {},
   "outputs": [
    {
     "data": {
      "text/plain": [
       "['w', 'o', 'r', 'd']"
      ]
     },
     "execution_count": 5,
     "metadata": {},
     "output_type": "execute_result"
    }
   ],
   "source": [
    "my_list_with_comprehension"
   ]
  },
  {
   "cell_type": "markdown",
   "id": "427a5629",
   "metadata": {},
   "source": [
    "### This is the second example:"
   ]
  },
  {
   "cell_type": "code",
   "execution_count": 6,
   "id": "6e1dd7e5",
   "metadata": {},
   "outputs": [],
   "source": [
    "my_list_2 = []\n",
    "for number in range(0,20):\n",
    "    my_list_2.append(number)"
   ]
  },
  {
   "cell_type": "code",
   "execution_count": 7,
   "id": "a421b770",
   "metadata": {},
   "outputs": [
    {
     "data": {
      "text/plain": [
       "[0, 1, 2, 3, 4, 5, 6, 7, 8, 9, 10, 11, 12, 13, 14, 15, 16, 17, 18, 19]"
      ]
     },
     "execution_count": 7,
     "metadata": {},
     "output_type": "execute_result"
    }
   ],
   "source": [
    "my_list_2"
   ]
  },
  {
   "cell_type": "code",
   "execution_count": 8,
   "id": "b52b718b",
   "metadata": {},
   "outputs": [],
   "source": [
    "my_list_2_with_comprehension = [number for number in range(0,20)]"
   ]
  },
  {
   "cell_type": "code",
   "execution_count": 9,
   "id": "d178b3ba",
   "metadata": {},
   "outputs": [
    {
     "data": {
      "text/plain": [
       "[0, 1, 2, 3, 4, 5, 6, 7, 8, 9, 10, 11, 12, 13, 14, 15, 16, 17, 18, 19]"
      ]
     },
     "execution_count": 9,
     "metadata": {},
     "output_type": "execute_result"
    }
   ],
   "source": [
    "my_list_2_with_comprehension\n"
   ]
  },
  {
   "cell_type": "markdown",
   "id": "a66f618c",
   "metadata": {},
   "source": [
    "### This is the third example:"
   ]
  },
  {
   "cell_type": "code",
   "execution_count": 11,
   "id": "3ddad8b2",
   "metadata": {},
   "outputs": [],
   "source": [
    "my_list_with_arithmetic_operations = []\n",
    "for num in range(0,20):\n",
    "    my_list_with_arithmetic_operations.append(num**2)"
   ]
  },
  {
   "cell_type": "code",
   "execution_count": 12,
   "id": "f1ef853f",
   "metadata": {},
   "outputs": [
    {
     "data": {
      "text/plain": [
       "[0,\n",
       " 1,\n",
       " 4,\n",
       " 9,\n",
       " 16,\n",
       " 25,\n",
       " 36,\n",
       " 49,\n",
       " 64,\n",
       " 81,\n",
       " 100,\n",
       " 121,\n",
       " 144,\n",
       " 169,\n",
       " 196,\n",
       " 225,\n",
       " 256,\n",
       " 289,\n",
       " 324,\n",
       " 361]"
      ]
     },
     "execution_count": 12,
     "metadata": {},
     "output_type": "execute_result"
    }
   ],
   "source": [
    "my_list_with_arithmetic_operations"
   ]
  },
  {
   "cell_type": "code",
   "execution_count": 13,
   "id": "ef111338",
   "metadata": {},
   "outputs": [],
   "source": [
    "my_list_with_arithmetic_operations_comprehensions = [ number **2 for number in range(0,20)]"
   ]
  },
  {
   "cell_type": "code",
   "execution_count": 15,
   "id": "12e83d59",
   "metadata": {},
   "outputs": [
    {
     "data": {
      "text/plain": [
       "[0,\n",
       " 1,\n",
       " 4,\n",
       " 9,\n",
       " 16,\n",
       " 25,\n",
       " 36,\n",
       " 49,\n",
       " 64,\n",
       " 81,\n",
       " 100,\n",
       " 121,\n",
       " 144,\n",
       " 169,\n",
       " 196,\n",
       " 225,\n",
       " 256,\n",
       " 289,\n",
       " 324,\n",
       " 361]"
      ]
     },
     "execution_count": 15,
     "metadata": {},
     "output_type": "execute_result"
    }
   ],
   "source": [
    "my_list_with_arithmetic_operations_comprehensions"
   ]
  },
  {
   "cell_type": "markdown",
   "id": "c8afe2e3",
   "metadata": {},
   "source": [
    "### This is the example of a list comprehension using if clause"
   ]
  },
  {
   "cell_type": "code",
   "execution_count": 16,
   "id": "75babd9c",
   "metadata": {},
   "outputs": [],
   "source": [
    "my_list_if_comprehensions = [ number for number in range(0,20) if number %2 ==0]"
   ]
  },
  {
   "cell_type": "code",
   "execution_count": 17,
   "id": "5cf9522f",
   "metadata": {},
   "outputs": [
    {
     "data": {
      "text/plain": [
       "[0, 2, 4, 6, 8, 10, 12, 14, 16, 18]"
      ]
     },
     "execution_count": 17,
     "metadata": {},
     "output_type": "execute_result"
    }
   ],
   "source": [
    "my_list_if_comprehensions\n"
   ]
  },
  {
   "cell_type": "markdown",
   "id": "965c651c",
   "metadata": {},
   "source": [
    "### This is an example of a list comprehension using if else clause"
   ]
  },
  {
   "cell_type": "code",
   "execution_count": 18,
   "id": "a03acbb7",
   "metadata": {},
   "outputs": [],
   "source": [
    "my_list_if_else_comprehensions = [ number if number %2 == 0 else \"it is an odd number\" for number in range(0,20)]"
   ]
  },
  {
   "cell_type": "code",
   "execution_count": 19,
   "id": "087002d1",
   "metadata": {},
   "outputs": [
    {
     "data": {
      "text/plain": [
       "[0,\n",
       " 'it is an odd number',\n",
       " 2,\n",
       " 'it is an odd number',\n",
       " 4,\n",
       " 'it is an odd number',\n",
       " 6,\n",
       " 'it is an odd number',\n",
       " 8,\n",
       " 'it is an odd number',\n",
       " 10,\n",
       " 'it is an odd number',\n",
       " 12,\n",
       " 'it is an odd number',\n",
       " 14,\n",
       " 'it is an odd number',\n",
       " 16,\n",
       " 'it is an odd number',\n",
       " 18,\n",
       " 'it is an odd number']"
      ]
     },
     "execution_count": 19,
     "metadata": {},
     "output_type": "execute_result"
    }
   ],
   "source": [
    "my_list_if_else_comprehensions"
   ]
  },
  {
   "cell_type": "markdown",
   "id": "877abaa3",
   "metadata": {},
   "source": [
    "### This is an example with nested lists"
   ]
  },
  {
   "cell_type": "code",
   "execution_count": 20,
   "id": "f9929eb7",
   "metadata": {},
   "outputs": [],
   "source": [
    "this_list_1 = [1,3,5]\n",
    "this_list_2 = [2,4,6]\n",
    "this_product_list =[]\n",
    "for i in this_list_1:\n",
    "    for j in this_list_2:\n",
    "        this_product_list.append(i*j)"
   ]
  },
  {
   "cell_type": "code",
   "execution_count": 21,
   "id": "47fcc95e",
   "metadata": {},
   "outputs": [
    {
     "data": {
      "text/plain": [
       "[2, 4, 6, 6, 12, 18, 10, 20, 30]"
      ]
     },
     "execution_count": 21,
     "metadata": {},
     "output_type": "execute_result"
    }
   ],
   "source": [
    "this_product_list"
   ]
  },
  {
   "cell_type": "markdown",
   "id": "c19417dd",
   "metadata": {},
   "source": [
    "same thing can be written with list comprehensions:"
   ]
  },
  {
   "cell_type": "code",
   "execution_count": 22,
   "id": "7ca0ce6c",
   "metadata": {},
   "outputs": [],
   "source": [
    "this_list_3 = [1,3,5]\n",
    "this_list_4 = [2,4,6]\n",
    "this_list_comprehensions = [i*j for i in this_list_3 for j in this_list_4]"
   ]
  },
  {
   "cell_type": "code",
   "execution_count": 23,
   "id": "c9158a16",
   "metadata": {},
   "outputs": [
    {
     "data": {
      "text/plain": [
       "[2, 4, 6, 6, 12, 18, 10, 20, 30]"
      ]
     },
     "execution_count": 23,
     "metadata": {},
     "output_type": "execute_result"
    }
   ],
   "source": [
    "this_list_comprehensions"
   ]
  },
  {
   "cell_type": "code",
   "execution_count": null,
   "id": "086e10d0",
   "metadata": {},
   "outputs": [],
   "source": []
  }
 ],
 "metadata": {
  "kernelspec": {
   "display_name": "Python 3 (ipykernel)",
   "language": "python",
   "name": "python3"
  },
  "language_info": {
   "codemirror_mode": {
    "name": "ipython",
    "version": 3
   },
   "file_extension": ".py",
   "mimetype": "text/x-python",
   "name": "python",
   "nbconvert_exporter": "python",
   "pygments_lexer": "ipython3",
   "version": "3.9.12"
  }
 },
 "nbformat": 4,
 "nbformat_minor": 5
}
