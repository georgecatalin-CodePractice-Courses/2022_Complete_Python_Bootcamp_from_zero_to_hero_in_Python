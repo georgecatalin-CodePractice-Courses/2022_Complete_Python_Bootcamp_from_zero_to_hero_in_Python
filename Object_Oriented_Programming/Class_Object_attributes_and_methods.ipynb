{
 "cells": [
  {
   "cell_type": "code",
   "execution_count": 10,
   "id": "1783be42",
   "metadata": {},
   "outputs": [],
   "source": [
    "class Dog():\n",
    "    \n",
    "    \n",
    "    # CLASS OBJECT ATTRIBUTES\n",
    "    # SAME FOR ANY INSTANCE OF THE CLASS\n",
    "    species = \"mammal\"\n",
    "    \n",
    "    def __init__(self, breed, name, spots):\n",
    "        self.breed = breed\n",
    "        self.name = name\n",
    "        self.spots = spots\n",
    "        \n",
    "    def bark(self, number):\n",
    "        print(\"Hello, my name is {0} and the number is {1}\".format(self.name, number))\n",
    "        "
   ]
  },
  {
   "cell_type": "code",
   "execution_count": 11,
   "id": "aa29b927",
   "metadata": {},
   "outputs": [],
   "source": [
    "zizake = Dog(breed=\"Shitzu\", name=\"Zizulak\", spots=False)"
   ]
  },
  {
   "cell_type": "code",
   "execution_count": 4,
   "id": "fd86659e",
   "metadata": {},
   "outputs": [
    {
     "data": {
      "text/plain": [
       "__main__.Dog"
      ]
     },
     "execution_count": 4,
     "metadata": {},
     "output_type": "execute_result"
    }
   ],
   "source": [
    "type(zizake)\n"
   ]
  },
  {
   "cell_type": "code",
   "execution_count": 5,
   "id": "bce9bc48",
   "metadata": {},
   "outputs": [
    {
     "data": {
      "text/plain": [
       "'mammal'"
      ]
     },
     "execution_count": 5,
     "metadata": {},
     "output_type": "execute_result"
    }
   ],
   "source": [
    "zizake.species"
   ]
  },
  {
   "cell_type": "code",
   "execution_count": 6,
   "id": "76dea7f4",
   "metadata": {},
   "outputs": [
    {
     "data": {
      "text/plain": [
       "'Shitzu'"
      ]
     },
     "execution_count": 6,
     "metadata": {},
     "output_type": "execute_result"
    }
   ],
   "source": [
    "zizake.breed"
   ]
  },
  {
   "cell_type": "code",
   "execution_count": 7,
   "id": "35139704",
   "metadata": {},
   "outputs": [
    {
     "data": {
      "text/plain": [
       "'Zizulak'"
      ]
     },
     "execution_count": 7,
     "metadata": {},
     "output_type": "execute_result"
    }
   ],
   "source": [
    "zizake.name"
   ]
  },
  {
   "cell_type": "code",
   "execution_count": 8,
   "id": "54ff3525",
   "metadata": {},
   "outputs": [
    {
     "data": {
      "text/plain": [
       "False"
      ]
     },
     "execution_count": 8,
     "metadata": {},
     "output_type": "execute_result"
    }
   ],
   "source": [
    "zizake.spots"
   ]
  },
  {
   "cell_type": "code",
   "execution_count": 12,
   "id": "da5856f4",
   "metadata": {},
   "outputs": [
    {
     "name": "stdout",
     "output_type": "stream",
     "text": [
      "Hello, my name is Zizulak and the number is 43\n"
     ]
    }
   ],
   "source": [
    "zizake.bark(43)"
   ]
  },
  {
   "cell_type": "code",
   "execution_count": null,
   "id": "9bb1c606",
   "metadata": {},
   "outputs": [],
   "source": []
  },
  {
   "cell_type": "code",
   "execution_count": 27,
   "id": "02c1f256",
   "metadata": {},
   "outputs": [],
   "source": [
    "class Circle(): \n",
    "    pi = 3.14\n",
    "        \n",
    "    def __init__(self, radius): \n",
    "        self.radius = radius\n",
    "        self.area = self.radius ** 2 * Circle.pi\n",
    "        \n",
    "    def calculate_circumference(self):\n",
    "        return self.radius * Circle.pi * 2\n",
    "    \n",
    "        "
   ]
  },
  {
   "cell_type": "code",
   "execution_count": 28,
   "id": "a25c045b",
   "metadata": {},
   "outputs": [],
   "source": [
    "primul = Circle(5)"
   ]
  },
  {
   "cell_type": "code",
   "execution_count": 29,
   "id": "109b76df",
   "metadata": {},
   "outputs": [
    {
     "data": {
      "text/plain": [
       "__main__.Circle"
      ]
     },
     "execution_count": 29,
     "metadata": {},
     "output_type": "execute_result"
    }
   ],
   "source": [
    "type(primul)"
   ]
  },
  {
   "cell_type": "code",
   "execution_count": 18,
   "id": "09ac4f51",
   "metadata": {},
   "outputs": [
    {
     "data": {
      "text/plain": [
       "5"
      ]
     },
     "execution_count": 18,
     "metadata": {},
     "output_type": "execute_result"
    }
   ],
   "source": [
    "primul.radius\n"
   ]
  },
  {
   "cell_type": "code",
   "execution_count": 19,
   "id": "58d9160c",
   "metadata": {},
   "outputs": [
    {
     "data": {
      "text/plain": [
       "3.14"
      ]
     },
     "execution_count": 19,
     "metadata": {},
     "output_type": "execute_result"
    }
   ],
   "source": [
    "primul.pi"
   ]
  },
  {
   "cell_type": "code",
   "execution_count": 30,
   "id": "43902c8d",
   "metadata": {},
   "outputs": [
    {
     "data": {
      "text/plain": [
       "78.5"
      ]
     },
     "execution_count": 30,
     "metadata": {},
     "output_type": "execute_result"
    }
   ],
   "source": [
    "primul.area"
   ]
  },
  {
   "cell_type": "code",
   "execution_count": 31,
   "id": "6de5e1ec",
   "metadata": {},
   "outputs": [
    {
     "data": {
      "text/plain": [
       "31.400000000000002"
      ]
     },
     "execution_count": 31,
     "metadata": {},
     "output_type": "execute_result"
    }
   ],
   "source": [
    "primul.calculate_circumference()"
   ]
  },
  {
   "cell_type": "code",
   "execution_count": 26,
   "id": "9b2f0616",
   "metadata": {},
   "outputs": [
    {
     "data": {
      "text/plain": [
       "<bound method Circle.calculate_circumference of <__main__.Circle object at 0x0000020CE1C5FBE0>>"
      ]
     },
     "execution_count": 26,
     "metadata": {},
     "output_type": "execute_result"
    }
   ],
   "source": [
    "primul.calculate_circumference"
   ]
  },
  {
   "cell_type": "code",
   "execution_count": null,
   "id": "dcda62c8",
   "metadata": {},
   "outputs": [],
   "source": []
  }
 ],
 "metadata": {
  "kernelspec": {
   "display_name": "Python 3 (ipykernel)",
   "language": "python",
   "name": "python3"
  },
  "language_info": {
   "codemirror_mode": {
    "name": "ipython",
    "version": 3
   },
   "file_extension": ".py",
   "mimetype": "text/x-python",
   "name": "python",
   "nbconvert_exporter": "python",
   "pygments_lexer": "ipython3",
   "version": "3.9.12"
  }
 },
 "nbformat": 4,
 "nbformat_minor": 5
}
