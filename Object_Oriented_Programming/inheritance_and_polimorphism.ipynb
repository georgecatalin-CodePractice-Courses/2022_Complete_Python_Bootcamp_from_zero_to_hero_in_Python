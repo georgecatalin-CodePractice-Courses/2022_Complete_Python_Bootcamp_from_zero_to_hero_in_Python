{
 "cells": [
  {
   "cell_type": "markdown",
   "id": "1275e8c9",
   "metadata": {},
   "source": [
    "### Presentation of Inheritance"
   ]
  },
  {
   "cell_type": "code",
   "execution_count": 9,
   "id": "b82be1fb",
   "metadata": {},
   "outputs": [],
   "source": [
    "class Animal():\n",
    "    \n",
    "    def __init__(self):\n",
    "        print(\"animal created\")\n",
    "        \n",
    "    def who_am_i(self):\n",
    "        print(\"I am an animal\")\n",
    "        \n",
    "    def eat(self):\n",
    "        print(\"I eat like an animal\")"
   ]
  },
  {
   "cell_type": "code",
   "execution_count": 10,
   "id": "a8bf9f06",
   "metadata": {},
   "outputs": [
    {
     "name": "stdout",
     "output_type": "stream",
     "text": [
      "animal created\n"
     ]
    }
   ],
   "source": [
    "zizake = Animal()"
   ]
  },
  {
   "cell_type": "code",
   "execution_count": 11,
   "id": "6103480e",
   "metadata": {},
   "outputs": [
    {
     "name": "stdout",
     "output_type": "stream",
     "text": [
      "I am an animal\n"
     ]
    }
   ],
   "source": [
    "zizake.who_am_i()"
   ]
  },
  {
   "cell_type": "code",
   "execution_count": 12,
   "id": "551e8391",
   "metadata": {},
   "outputs": [
    {
     "name": "stdout",
     "output_type": "stream",
     "text": [
      "I eat like an animal\n"
     ]
    }
   ],
   "source": [
    "zizake.eat()"
   ]
  },
  {
   "cell_type": "code",
   "execution_count": 17,
   "id": "a668b231",
   "metadata": {},
   "outputs": [],
   "source": [
    "class Dog(Animal):\n",
    "    \n",
    "    def __init__(self):\n",
    "        Animal.__init__(self)\n",
    "        print(\"I am a dog\")\n",
    "        \n",
    "    # overwriting the method\n",
    "    def eat(self):\n",
    "        print(\"I am eating in the dog's way\")"
   ]
  },
  {
   "cell_type": "code",
   "execution_count": 18,
   "id": "469480ee",
   "metadata": {},
   "outputs": [
    {
     "name": "stdout",
     "output_type": "stream",
     "text": [
      "animal created\n",
      "I am a dog\n"
     ]
    }
   ],
   "source": [
    "mila = Dog()"
   ]
  },
  {
   "cell_type": "code",
   "execution_count": 15,
   "id": "4de2921c",
   "metadata": {},
   "outputs": [
    {
     "name": "stdout",
     "output_type": "stream",
     "text": [
      "I am an animal\n"
     ]
    }
   ],
   "source": [
    "mila.who_am_i()"
   ]
  },
  {
   "cell_type": "code",
   "execution_count": 19,
   "id": "268c6233",
   "metadata": {},
   "outputs": [
    {
     "name": "stdout",
     "output_type": "stream",
     "text": [
      "I am eating in the dog's way\n"
     ]
    }
   ],
   "source": [
    "mila.eat()"
   ]
  },
  {
   "cell_type": "markdown",
   "id": "d8d9869b",
   "metadata": {},
   "source": [
    "### Presentation of Polimorphism"
   ]
  },
  {
   "cell_type": "code",
   "execution_count": 26,
   "id": "851ba576",
   "metadata": {},
   "outputs": [],
   "source": [
    "class SuperDog():\n",
    "    \n",
    "    def __init__(self, name):\n",
    "        self.name = name\n",
    "        \n",
    "    def speak(self):\n",
    "        return self.name + \" says woof!\"\n",
    "        \n",
    "class Cat():\n",
    "    \n",
    "    def __init__(self,name):\n",
    "        self.name = name\n",
    "        \n",
    "    def speak(self):\n",
    "        return self.name + \" says miaow!\""
   ]
  },
  {
   "cell_type": "markdown",
   "id": "74499820",
   "metadata": {},
   "source": [
    "this are two ways to illustrate polimorphism in Python"
   ]
  },
  {
   "cell_type": "code",
   "execution_count": 23,
   "id": "803f185a",
   "metadata": {},
   "outputs": [],
   "source": [
    "zizou = SuperDog(\"Zizou\")"
   ]
  },
  {
   "cell_type": "code",
   "execution_count": 27,
   "id": "10c6ebac",
   "metadata": {},
   "outputs": [],
   "source": [
    "andi = Cat(\"Almito\")"
   ]
  },
  {
   "cell_type": "code",
   "execution_count": 28,
   "id": "6454125a",
   "metadata": {},
   "outputs": [
    {
     "name": "stdout",
     "output_type": "stream",
     "text": [
      "<class '__main__.SuperDog'>\n",
      "Zizou says woof!\n",
      "<class '__main__.Cat'>\n",
      "Almito says miaow!\n"
     ]
    }
   ],
   "source": [
    "for pet in [zizou, andi]:\n",
    "    print(type(pet))\n",
    "    print(pet.speak())"
   ]
  },
  {
   "cell_type": "code",
   "execution_count": 29,
   "id": "3934185c",
   "metadata": {},
   "outputs": [],
   "source": [
    "def special_function(pet):\n",
    "    print(pet.speak())"
   ]
  },
  {
   "cell_type": "code",
   "execution_count": 30,
   "id": "093c3358",
   "metadata": {},
   "outputs": [
    {
     "name": "stdout",
     "output_type": "stream",
     "text": [
      "Zizou says woof!\n"
     ]
    }
   ],
   "source": [
    "special_function(zizou)"
   ]
  },
  {
   "cell_type": "code",
   "execution_count": 31,
   "id": "24aa2687",
   "metadata": {},
   "outputs": [
    {
     "name": "stdout",
     "output_type": "stream",
     "text": [
      "Almito says miaow!\n"
     ]
    }
   ],
   "source": [
    "special_function(andi)"
   ]
  },
  {
   "cell_type": "code",
   "execution_count": null,
   "id": "0de4f176",
   "metadata": {},
   "outputs": [],
   "source": []
  }
 ],
 "metadata": {
  "kernelspec": {
   "display_name": "Python 3 (ipykernel)",
   "language": "python",
   "name": "python3"
  },
  "language_info": {
   "codemirror_mode": {
    "name": "ipython",
    "version": 3
   },
   "file_extension": ".py",
   "mimetype": "text/x-python",
   "name": "python",
   "nbconvert_exporter": "python",
   "pygments_lexer": "ipython3",
   "version": "3.9.12"
  }
 },
 "nbformat": 4,
 "nbformat_minor": 5
}
