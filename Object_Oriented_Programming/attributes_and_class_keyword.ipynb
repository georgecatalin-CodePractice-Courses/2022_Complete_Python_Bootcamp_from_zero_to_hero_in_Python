{
 "cells": [
  {
   "cell_type": "code",
   "execution_count": 1,
   "id": "ec145445",
   "metadata": {},
   "outputs": [],
   "source": [
    "class Sample():\n",
    "    pass"
   ]
  },
  {
   "cell_type": "code",
   "execution_count": 2,
   "id": "2d46fb00",
   "metadata": {},
   "outputs": [],
   "source": [
    "my_sample_object = Sample()"
   ]
  },
  {
   "cell_type": "code",
   "execution_count": 3,
   "id": "037405e9",
   "metadata": {},
   "outputs": [
    {
     "data": {
      "text/plain": [
       "__main__.Sample"
      ]
     },
     "execution_count": 3,
     "metadata": {},
     "output_type": "execute_result"
    }
   ],
   "source": [
    "type(my_sample_object)\n"
   ]
  },
  {
   "cell_type": "markdown",
   "id": "32670d60",
   "metadata": {},
   "source": [
    "### Create attributes to a class"
   ]
  },
  {
   "cell_type": "code",
   "execution_count": 5,
   "id": "6a8541f6",
   "metadata": {},
   "outputs": [],
   "source": [
    "class Dog():\n",
    "    def __init__(self,breed,name,spots):\n",
    "        self.breed = breed\n",
    "        self.name = name\n",
    "        self.spots = spots\n",
    "        \n",
    "zizake = Dog(\"shi-Tsu\", \"Zizou\", False)"
   ]
  },
  {
   "cell_type": "code",
   "execution_count": 6,
   "id": "3ada1e4f",
   "metadata": {},
   "outputs": [
    {
     "data": {
      "text/plain": [
       "__main__.Dog"
      ]
     },
     "execution_count": 6,
     "metadata": {},
     "output_type": "execute_result"
    }
   ],
   "source": [
    "type(zizake)\n"
   ]
  },
  {
   "cell_type": "code",
   "execution_count": 7,
   "id": "3528a3de",
   "metadata": {},
   "outputs": [
    {
     "data": {
      "text/plain": [
       "'shi-Tsu'"
      ]
     },
     "execution_count": 7,
     "metadata": {},
     "output_type": "execute_result"
    }
   ],
   "source": [
    "zizake.breed"
   ]
  },
  {
   "cell_type": "code",
   "execution_count": 8,
   "id": "a218654e",
   "metadata": {},
   "outputs": [
    {
     "data": {
      "text/plain": [
       "'Zizou'"
      ]
     },
     "execution_count": 8,
     "metadata": {},
     "output_type": "execute_result"
    }
   ],
   "source": [
    "zizake.name\n"
   ]
  },
  {
   "cell_type": "code",
   "execution_count": 9,
   "id": "ae9578ad",
   "metadata": {},
   "outputs": [
    {
     "data": {
      "text/plain": [
       "False"
      ]
     },
     "execution_count": 9,
     "metadata": {},
     "output_type": "execute_result"
    }
   ],
   "source": [
    "zizake.spots"
   ]
  },
  {
   "cell_type": "code",
   "execution_count": null,
   "id": "5ed5c061",
   "metadata": {},
   "outputs": [],
   "source": []
  }
 ],
 "metadata": {
  "kernelspec": {
   "display_name": "Python 3 (ipykernel)",
   "language": "python",
   "name": "python3"
  },
  "language_info": {
   "codemirror_mode": {
    "name": "ipython",
    "version": 3
   },
   "file_extension": ".py",
   "mimetype": "text/x-python",
   "name": "python",
   "nbconvert_exporter": "python",
   "pygments_lexer": "ipython3",
   "version": "3.9.12"
  }
 },
 "nbformat": 4,
 "nbformat_minor": 5
}
