{
 "cells": [
  {
   "cell_type": "markdown",
   "id": "74953c82",
   "metadata": {},
   "source": [
    "### Introduction of the necessity: using multiple number of arguments in a function"
   ]
  },
  {
   "cell_type": "code",
   "execution_count": 1,
   "id": "e0826d90",
   "metadata": {},
   "outputs": [],
   "source": [
    "def my_function(a,b):\n",
    "    return sum((a,b)) *0.05"
   ]
  },
  {
   "cell_type": "code",
   "execution_count": 2,
   "id": "fd162b59",
   "metadata": {},
   "outputs": [
    {
     "data": {
      "text/plain": [
       "4.5"
      ]
     },
     "execution_count": 2,
     "metadata": {},
     "output_type": "execute_result"
    }
   ],
   "source": [
    "my_function(40,50)"
   ]
  },
  {
   "cell_type": "markdown",
   "id": "3f20825e",
   "metadata": {},
   "source": [
    "add more parameters to this function, but these have to be of a fixed number known of parameters"
   ]
  },
  {
   "cell_type": "code",
   "execution_count": 11,
   "id": "dd885a94",
   "metadata": {},
   "outputs": [],
   "source": [
    "def my_other_function(a, b, c=0, d=0, e=0):\n",
    "    return sum((a,b,c,d,e))*0.05"
   ]
  },
  {
   "cell_type": "code",
   "execution_count": 12,
   "id": "6bfd67ca",
   "metadata": {},
   "outputs": [
    {
     "data": {
      "text/plain": [
       "8.5"
      ]
     },
     "execution_count": 12,
     "metadata": {},
     "output_type": "execute_result"
    }
   ],
   "source": [
    "my_other_function(30,40,100)"
   ]
  },
  {
   "cell_type": "code",
   "execution_count": 13,
   "id": "4b3574af",
   "metadata": {},
   "outputs": [
    {
     "data": {
      "text/plain": [
       "3.5"
      ]
     },
     "execution_count": 13,
     "metadata": {},
     "output_type": "execute_result"
    }
   ],
   "source": [
    "my_other_function(30,40)"
   ]
  },
  {
   "cell_type": "code",
   "execution_count": 14,
   "id": "0a05f641",
   "metadata": {},
   "outputs": [
    {
     "ename": "TypeError",
     "evalue": "my_other_function() takes from 2 to 5 positional arguments but 6 were given",
     "output_type": "error",
     "traceback": [
      "\u001b[1;31m---------------------------------------------------------------------------\u001b[0m",
      "\u001b[1;31mTypeError\u001b[0m                                 Traceback (most recent call last)",
      "Input \u001b[1;32mIn [14]\u001b[0m, in \u001b[0;36m<cell line: 1>\u001b[1;34m()\u001b[0m\n\u001b[1;32m----> 1\u001b[0m \u001b[43mmy_other_function\u001b[49m\u001b[43m(\u001b[49m\u001b[38;5;241;43m30\u001b[39;49m\u001b[43m,\u001b[49m\u001b[38;5;241;43m40\u001b[39;49m\u001b[43m,\u001b[49m\u001b[38;5;241;43m50\u001b[39;49m\u001b[43m,\u001b[49m\u001b[38;5;241;43m50\u001b[39;49m\u001b[43m,\u001b[49m\u001b[38;5;241;43m50\u001b[39;49m\u001b[43m,\u001b[49m\u001b[38;5;241;43m34\u001b[39;49m\u001b[43m)\u001b[49m\n",
      "\u001b[1;31mTypeError\u001b[0m: my_other_function() takes from 2 to 5 positional arguments but 6 were given"
     ]
    }
   ],
   "source": [
    "my_other_function(30,40,50,50,50,34)"
   ]
  },
  {
   "cell_type": "markdown",
   "id": "4e051e97",
   "metadata": {},
   "source": [
    "### here comes in force the necessity of a variable number of arguments"
   ]
  },
  {
   "cell_type": "code",
   "execution_count": 16,
   "id": "fa0bb4f2",
   "metadata": {},
   "outputs": [],
   "source": [
    "def my_function_variable_number_arguments(*args):\n",
    "    print(args) #note: args acts like a tuple\n",
    "    return sum(args) * 0.05"
   ]
  },
  {
   "cell_type": "code",
   "execution_count": 17,
   "id": "6ebd3da1",
   "metadata": {},
   "outputs": [
    {
     "name": "stdout",
     "output_type": "stream",
     "text": [
      "(10,)\n"
     ]
    },
    {
     "data": {
      "text/plain": [
       "0.5"
      ]
     },
     "execution_count": 17,
     "metadata": {},
     "output_type": "execute_result"
    }
   ],
   "source": [
    "my_function_variable_number_arguments(10)"
   ]
  },
  {
   "cell_type": "code",
   "execution_count": 18,
   "id": "73b6a287",
   "metadata": {},
   "outputs": [
    {
     "name": "stdout",
     "output_type": "stream",
     "text": [
      "(10, 20)\n"
     ]
    },
    {
     "data": {
      "text/plain": [
       "1.5"
      ]
     },
     "execution_count": 18,
     "metadata": {},
     "output_type": "execute_result"
    }
   ],
   "source": [
    "my_function_variable_number_arguments(10,20)"
   ]
  },
  {
   "cell_type": "code",
   "execution_count": 19,
   "id": "9759bd80",
   "metadata": {},
   "outputs": [
    {
     "name": "stdout",
     "output_type": "stream",
     "text": [
      "(10, 20, 40, 50)\n"
     ]
    },
    {
     "data": {
      "text/plain": [
       "6.0"
      ]
     },
     "execution_count": 19,
     "metadata": {},
     "output_type": "execute_result"
    }
   ],
   "source": [
    "my_function_variable_number_arguments(10,20,40,50)"
   ]
  },
  {
   "cell_type": "markdown",
   "id": "a40d27c1",
   "metadata": {},
   "source": [
    "### How to use an arbitrary number of keyword and arguments"
   ]
  },
  {
   "cell_type": "code",
   "execution_count": 24,
   "id": "1c383021",
   "metadata": {},
   "outputs": [],
   "source": [
    "def my_function_arbitrary_number_of_keyword_and_values(**kwargs):\n",
    "    print(kwargs) # kwargs behaves like a dictionary\n",
    "    for item in kwargs:\n",
    "        if item == \"fruit\":\n",
    "            print(\"I love eating {0}\".format(kwargs[\"fruit\"]))\n"
   ]
  },
  {
   "cell_type": "code",
   "execution_count": 25,
   "id": "e1c16b33",
   "metadata": {},
   "outputs": [
    {
     "name": "stdout",
     "output_type": "stream",
     "text": [
      "{'fruit': 'banana', 'candy': 'Chupa Chups'}\n",
      "I love eating banana\n"
     ]
    }
   ],
   "source": [
    "my_function_arbitrary_number_of_keyword_and_values(fruit=\"banana\", candy=\"Chupa Chups\")"
   ]
  },
  {
   "cell_type": "markdown",
   "id": "ce4d384d",
   "metadata": {},
   "source": [
    "### How to use both *args and **kwargs arguments"
   ]
  },
  {
   "cell_type": "code",
   "execution_count": 26,
   "id": "5c04845b",
   "metadata": {},
   "outputs": [],
   "source": [
    "def this_function(*args, **kwargs):\n",
    "    print(args)\n",
    "    print(kwargs)\n",
    "    print(\"I love having {0} {1}\".format(args[0], kwargs[\"food\"]))"
   ]
  },
  {
   "cell_type": "code",
   "execution_count": 27,
   "id": "f62dc2f8",
   "metadata": {},
   "outputs": [
    {
     "name": "stdout",
     "output_type": "stream",
     "text": [
      "(10, 30, 45, 23)\n",
      "{'fruit': 'pear', 'food': 'pizza', 'drink': 'vodka'}\n",
      "I love having 10 pizza\n"
     ]
    }
   ],
   "source": [
    "this_function(10,30,45,23, fruit=\"pear\", food=\"pizza\", drink=\"vodka\")"
   ]
  },
  {
   "cell_type": "code",
   "execution_count": null,
   "id": "44a9f7be",
   "metadata": {},
   "outputs": [],
   "source": []
  }
 ],
 "metadata": {
  "kernelspec": {
   "display_name": "Python 3 (ipykernel)",
   "language": "python",
   "name": "python3"
  },
  "language_info": {
   "codemirror_mode": {
    "name": "ipython",
    "version": 3
   },
   "file_extension": ".py",
   "mimetype": "text/x-python",
   "name": "python",
   "nbconvert_exporter": "python",
   "pygments_lexer": "ipython3",
   "version": "3.9.12"
  }
 },
 "nbformat": 4,
 "nbformat_minor": 5
}
