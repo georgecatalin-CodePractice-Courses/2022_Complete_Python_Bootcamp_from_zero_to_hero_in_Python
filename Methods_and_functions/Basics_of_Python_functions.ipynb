{
 "cells": [
  {
   "cell_type": "code",
   "execution_count": 1,
   "id": "446fd9fd",
   "metadata": {},
   "outputs": [],
   "source": [
    "def my_function():\n",
    "    print(\"Hello\")\n",
    "    print(\"Cornel\")\n",
    "    print(\"is here\")"
   ]
  },
  {
   "cell_type": "code",
   "execution_count": 2,
   "id": "53accea0",
   "metadata": {},
   "outputs": [
    {
     "name": "stdout",
     "output_type": "stream",
     "text": [
      "Hello\n",
      "Cornel\n",
      "is here\n"
     ]
    }
   ],
   "source": [
    "my_function()"
   ]
  },
  {
   "cell_type": "markdown",
   "id": "052e043e",
   "metadata": {},
   "source": [
    "###### How to use an argument with a default value"
   ]
  },
  {
   "cell_type": "code",
   "execution_count": 3,
   "id": "af1feeab",
   "metadata": {},
   "outputs": [],
   "source": [
    "def my_function(name=\"Default\"):\n",
    "    print(name)"
   ]
  },
  {
   "cell_type": "code",
   "execution_count": 4,
   "id": "19ac2594",
   "metadata": {},
   "outputs": [
    {
     "name": "stdout",
     "output_type": "stream",
     "text": [
      "Default\n"
     ]
    }
   ],
   "source": [
    "my_function()"
   ]
  },
  {
   "cell_type": "code",
   "execution_count": 5,
   "id": "a8f9335d",
   "metadata": {},
   "outputs": [
    {
     "name": "stdout",
     "output_type": "stream",
     "text": [
      "George\n"
     ]
    }
   ],
   "source": [
    "my_function(\"George\")"
   ]
  },
  {
   "cell_type": "code",
   "execution_count": null,
   "id": "2a876690",
   "metadata": {},
   "outputs": [],
   "source": []
  }
 ],
 "metadata": {
  "kernelspec": {
   "display_name": "Python 3 (ipykernel)",
   "language": "python",
   "name": "python3"
  },
  "language_info": {
   "codemirror_mode": {
    "name": "ipython",
    "version": 3
   },
   "file_extension": ".py",
   "mimetype": "text/x-python",
   "name": "python",
   "nbconvert_exporter": "python",
   "pygments_lexer": "ipython3",
   "version": "3.9.12"
  }
 },
 "nbformat": 4,
 "nbformat_minor": 5
}
