{
 "cells": [
  {
   "cell_type": "markdown",
   "id": "46dc9432",
   "metadata": {},
   "source": [
    "### Understand the meaning of variable scope "
   ]
  },
  {
   "cell_type": "code",
   "execution_count": null,
   "id": "41a24c22",
   "metadata": {},
   "outputs": [],
   "source": [
    "name = \"This is the global string\""
   ]
  },
  {
   "cell_type": "code",
   "execution_count": 9,
   "id": "5b31afb2",
   "metadata": {},
   "outputs": [],
   "source": [
    "def greet():\n",
    "    name = \"Cornel\"\n",
    "    \n",
    "    def hello():\n",
    "        name = \"Pavel\"\n",
    "        print(f\"Hello + {name}\" )\n",
    "    hello()"
   ]
  },
  {
   "cell_type": "code",
   "execution_count": 3,
   "id": "bda31010",
   "metadata": {},
   "outputs": [
    {
     "data": {
      "text/plain": [
       "'This is the global string'"
      ]
     },
     "execution_count": 3,
     "metadata": {},
     "output_type": "execute_result"
    }
   ],
   "source": [
    "name\n"
   ]
  },
  {
   "cell_type": "code",
   "execution_count": 10,
   "id": "2cc5d63a",
   "metadata": {},
   "outputs": [
    {
     "name": "stdout",
     "output_type": "stream",
     "text": [
      "Hello + Pavel\n"
     ]
    }
   ],
   "source": [
    "greet()"
   ]
  },
  {
   "cell_type": "code",
   "execution_count": 11,
   "id": "5bebc404",
   "metadata": {},
   "outputs": [
    {
     "data": {
      "text/plain": [
       "'This is the global string'"
      ]
     },
     "execution_count": 11,
     "metadata": {},
     "output_type": "execute_result"
    }
   ],
   "source": [
    "name"
   ]
  },
  {
   "cell_type": "markdown",
   "id": "05956468",
   "metadata": {},
   "source": [
    "### 2nd example"
   ]
  },
  {
   "cell_type": "markdown",
   "id": "a8a2bb82",
   "metadata": {},
   "source": [
    "use the global keyword to affect the value of the variable globally"
   ]
  },
  {
   "cell_type": "code",
   "execution_count": 34,
   "id": "05d5318f",
   "metadata": {},
   "outputs": [
    {
     "name": "stdout",
     "output_type": "stream",
     "text": [
      "1978\n"
     ]
    }
   ],
   "source": [
    "x = 1978\n",
    "def my_function():\n",
    "    global x # adding the global keyword, then the value of the variable x will be affected globally\n",
    "    print(\"X is {0}\".format(x))\n",
    "    \n",
    "    x =2011\n",
    "    print(\"I changed the X to {0}\".format(x))\n",
    "        \n",
    "print(x)"
   ]
  },
  {
   "cell_type": "code",
   "execution_count": 35,
   "id": "68d4c2fd",
   "metadata": {},
   "outputs": [
    {
     "data": {
      "text/plain": [
       "1978"
      ]
     },
     "execution_count": 35,
     "metadata": {},
     "output_type": "execute_result"
    }
   ],
   "source": [
    "x\n"
   ]
  },
  {
   "cell_type": "code",
   "execution_count": 36,
   "id": "842e22c4",
   "metadata": {},
   "outputs": [
    {
     "name": "stdout",
     "output_type": "stream",
     "text": [
      "X is 1978\n",
      "I changed the X to 2011\n"
     ]
    }
   ],
   "source": [
    "my_function()"
   ]
  },
  {
   "cell_type": "code",
   "execution_count": 37,
   "id": "ee11c725",
   "metadata": {},
   "outputs": [
    {
     "data": {
      "text/plain": [
       "2011"
      ]
     },
     "execution_count": 37,
     "metadata": {},
     "output_type": "execute_result"
    }
   ],
   "source": [
    "x"
   ]
  },
  {
   "cell_type": "markdown",
   "id": "e9ae2d2e",
   "metadata": {},
   "source": [
    "### 3rd example"
   ]
  },
  {
   "cell_type": "code",
   "execution_count": 40,
   "id": "00a1d7e4",
   "metadata": {},
   "outputs": [
    {
     "name": "stdout",
     "output_type": "stream",
     "text": [
      "1978\n"
     ]
    }
   ],
   "source": [
    "x = 1978\n",
    "\n",
    "def my_func():\n",
    "    print(f\"The value of X is {x}\")\n",
    "    \n",
    "    # reassign x locally  x changes the value only inside the function\n",
    "    x = 2011\n",
    "    print(f\"I changed the X to {x}\" )\n",
    "\n",
    "print(x)\n",
    "    "
   ]
  },
  {
   "cell_type": "markdown",
   "id": "6858999b",
   "metadata": {},
   "source": [
    "### 4th example"
   ]
  },
  {
   "cell_type": "code",
   "execution_count": 43,
   "id": "290cf9b3",
   "metadata": {},
   "outputs": [
    {
     "name": "stdout",
     "output_type": "stream",
     "text": [
      "The value of X is 1978\n",
      "I changed the X to 2011\n",
      "2011\n"
     ]
    }
   ],
   "source": [
    "x = 1978\n",
    "\n",
    "def my_function_set_global(x):\n",
    "    # display the global value of the variable\n",
    "    print(f\"The value of X is {x}\")\n",
    "    \n",
    "    # set the new value of the variable locally\n",
    "    x = 2011\n",
    "    print(f\"I changed the X to {x}\")\n",
    "    \n",
    "    # return the new value of the variable\n",
    "    return x\n",
    "\n",
    "x = my_function_set_global(x)\n",
    "\n",
    "print(x)"
   ]
  },
  {
   "cell_type": "code",
   "execution_count": null,
   "id": "b3fa161c",
   "metadata": {},
   "outputs": [],
   "source": []
  }
 ],
 "metadata": {
  "kernelspec": {
   "display_name": "Python 3 (ipykernel)",
   "language": "python",
   "name": "python3"
  },
  "language_info": {
   "codemirror_mode": {
    "name": "ipython",
    "version": 3
   },
   "file_extension": ".py",
   "mimetype": "text/x-python",
   "name": "python",
   "nbconvert_exporter": "python",
   "pygments_lexer": "ipython3",
   "version": "3.9.12"
  }
 },
 "nbformat": 4,
 "nbformat_minor": 5
}
