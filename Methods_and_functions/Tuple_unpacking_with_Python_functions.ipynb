{
 "cells": [
  {
   "cell_type": "code",
   "execution_count": 7,
   "id": "ebf85242",
   "metadata": {},
   "outputs": [],
   "source": [
    "stock_prices_tuples_list = [(\"AAPL\", 200), (\"GOOG\",400),(\"MSFT\",150)]\n"
   ]
  },
  {
   "cell_type": "code",
   "execution_count": 8,
   "id": "d6f75fcd",
   "metadata": {},
   "outputs": [
    {
     "name": "stdout",
     "output_type": "stream",
     "text": [
      "('AAPL', 200)\n",
      "('GOOG', 400)\n",
      "('MSFT', 150)\n"
     ]
    }
   ],
   "source": [
    "for item in stock_prices_tuples_list:\n",
    "    print(item)"
   ]
  },
  {
   "cell_type": "markdown",
   "id": "0612d1c3",
   "metadata": {},
   "source": [
    "unpacking the tuple with a for loop "
   ]
  },
  {
   "cell_type": "code",
   "execution_count": 9,
   "id": "feb0af42",
   "metadata": {},
   "outputs": [
    {
     "name": "stdout",
     "output_type": "stream",
     "text": [
      "AAPL;200\n",
      "GOOG;400\n",
      "MSFT;150\n"
     ]
    }
   ],
   "source": [
    "for ticker, price in stock_prices_tuples_list:\n",
    "    print(ticker+\";\"+str(price))"
   ]
  },
  {
   "cell_type": "markdown",
   "id": "1852190a",
   "metadata": {},
   "source": [
    "###### Unpacking the tuple with a function (example)"
   ]
  },
  {
   "cell_type": "code",
   "execution_count": 10,
   "id": "44c58460",
   "metadata": {},
   "outputs": [],
   "source": [
    "work_hours_tuples_list = [(\"George\", 300), (\"Alexey\", 400), (\"Cornel\", 150)]"
   ]
  },
  {
   "cell_type": "code",
   "execution_count": 11,
   "id": "0966a982",
   "metadata": {},
   "outputs": [],
   "source": [
    "def employee_of_the_week(work_hours_tuples_list):\n",
    "    current_max = 0\n",
    "    employee_of_the_week =\"\"\n",
    "    \n",
    "    for employee, hours_of_work in work_hours_tuples_list:\n",
    "        if hours_of_work > current_max:\n",
    "            current_max = hours_of_work\n",
    "            employee_of_the_week = employee\n",
    "    \n",
    "    \n",
    "    return (employee_of_the_week,current_max)"
   ]
  },
  {
   "cell_type": "code",
   "execution_count": 12,
   "id": "91310a51",
   "metadata": {},
   "outputs": [],
   "source": [
    "the_fantastic_employee = employee_of_the_week(work_hours_tuples_list)"
   ]
  },
  {
   "cell_type": "code",
   "execution_count": 13,
   "id": "e8be90e7",
   "metadata": {},
   "outputs": [
    {
     "data": {
      "text/plain": [
       "('Alexey', 400)"
      ]
     },
     "execution_count": 13,
     "metadata": {},
     "output_type": "execute_result"
    }
   ],
   "source": [
    "the_fantastic_employee\n"
   ]
  },
  {
   "cell_type": "code",
   "execution_count": 14,
   "id": "ee92c8b7",
   "metadata": {},
   "outputs": [
    {
     "name": "stdout",
     "output_type": "stream",
     "text": [
      "Alexey400\n"
     ]
    }
   ],
   "source": [
    "employee_king, hours = employee_of_the_week(work_hours_tuples_list)\n",
    "print(employee_king + str(hours))"
   ]
  },
  {
   "cell_type": "code",
   "execution_count": null,
   "id": "142e148f",
   "metadata": {},
   "outputs": [],
   "source": []
  }
 ],
 "metadata": {
  "kernelspec": {
   "display_name": "Python 3 (ipykernel)",
   "language": "python",
   "name": "python3"
  },
  "language_info": {
   "codemirror_mode": {
    "name": "ipython",
    "version": 3
   },
   "file_extension": ".py",
   "mimetype": "text/x-python",
   "name": "python",
   "nbconvert_exporter": "python",
   "pygments_lexer": "ipython3",
   "version": "3.9.12"
  }
 },
 "nbformat": 4,
 "nbformat_minor": 5
}
