{
 "cells": [
  {
   "cell_type": "markdown",
   "id": "5ddc7c2c",
   "metadata": {},
   "source": [
    "#### How to shuffle a list using the function included in the random module"
   ]
  },
  {
   "cell_type": "code",
   "execution_count": 1,
   "id": "f268edd0",
   "metadata": {},
   "outputs": [],
   "source": [
    "from random import shuffle"
   ]
  },
  {
   "cell_type": "code",
   "execution_count": 2,
   "id": "f6d6edd7",
   "metadata": {},
   "outputs": [],
   "source": [
    "example_list = [1,2,3,4,5,6,7]"
   ]
  },
  {
   "cell_type": "code",
   "execution_count": 3,
   "id": "0bbd85fd",
   "metadata": {},
   "outputs": [
    {
     "name": "stdout",
     "output_type": "stream",
     "text": [
      "[1, 2, 3, 4, 5, 6, 7]\n"
     ]
    }
   ],
   "source": [
    "print(example_list)"
   ]
  },
  {
   "cell_type": "code",
   "execution_count": 4,
   "id": "41b904f8",
   "metadata": {},
   "outputs": [],
   "source": [
    "shuffle(example_list)"
   ]
  },
  {
   "cell_type": "code",
   "execution_count": 5,
   "id": "f4c7ab4d",
   "metadata": {},
   "outputs": [
    {
     "name": "stdout",
     "output_type": "stream",
     "text": [
      "[5, 2, 3, 7, 1, 4, 6]\n"
     ]
    }
   ],
   "source": [
    "print(example_list)"
   ]
  },
  {
   "cell_type": "markdown",
   "id": "98c7a904",
   "metadata": {},
   "source": [
    "### \"Alba-Neagra\" game"
   ]
  },
  {
   "cell_type": "code",
   "execution_count": 6,
   "id": "71252b32",
   "metadata": {},
   "outputs": [],
   "source": [
    "def my_shuffle_function(my_list):\n",
    "    shuffle(my_list)\n",
    "    this_list = my_list\n",
    "    return this_list"
   ]
  },
  {
   "cell_type": "code",
   "execution_count": 7,
   "id": "6b33d837",
   "metadata": {},
   "outputs": [],
   "source": [
    "the_result = my_shuffle_function(example_list)"
   ]
  },
  {
   "cell_type": "code",
   "execution_count": 8,
   "id": "3403b90e",
   "metadata": {},
   "outputs": [
    {
     "data": {
      "text/plain": [
       "[6, 2, 3, 4, 5, 7, 1]"
      ]
     },
     "execution_count": 8,
     "metadata": {},
     "output_type": "execute_result"
    }
   ],
   "source": [
    "the_result"
   ]
  },
  {
   "cell_type": "code",
   "execution_count": 11,
   "id": "3f888852",
   "metadata": {},
   "outputs": [],
   "source": [
    "def users_guess():\n",
    "    guess_number = \"\"\n",
    "    \n",
    "    while guess_number not in [\"1\", \"2\",\"3\"]:\n",
    "        guess_number = input(\"Pick a number 0, 1 or 2 : \")\n",
    "    \n",
    "    return int(guess_number)\n",
    "    "
   ]
  },
  {
   "cell_type": "code",
   "execution_count": 12,
   "id": "063da746",
   "metadata": {},
   "outputs": [],
   "source": [
    "def check_guess(this_list,guess):\n",
    "    if this_list[guess] == \"0\":\n",
    "        print(\"Correct\")\n",
    "    else:\n",
    "        print(\"Wrong\")\n",
    "        print(this_list)"
   ]
  },
  {
   "cell_type": "code",
   "execution_count": 14,
   "id": "89a1d0bf",
   "metadata": {},
   "outputs": [
    {
     "name": "stdout",
     "output_type": "stream",
     "text": [
      "Pick a number 0, 1 or 2 : 6\n",
      "Pick a number 0, 1 or 2 : 2\n",
      "Wrong\n",
      "['O', '', '']\n"
     ]
    }
   ],
   "source": [
    "# INITIALUZE STUFF\n",
    "my_list = [\"\",\"O\",\"\"]\n",
    "\n",
    "# SHUFFLE THE LIST\n",
    "the_list = my_shuffle_function(my_list)\n",
    "\n",
    "# GUESS THE USERS NUMBER\n",
    "guess = users_guess()\n",
    "\n",
    "# CHECK THE GUESS\n",
    "check_guess(the_list,guess)"
   ]
  },
  {
   "cell_type": "code",
   "execution_count": null,
   "id": "48f53a8c",
   "metadata": {},
   "outputs": [],
   "source": []
  }
 ],
 "metadata": {
  "kernelspec": {
   "display_name": "Python 3 (ipykernel)",
   "language": "python",
   "name": "python3"
  },
  "language_info": {
   "codemirror_mode": {
    "name": "ipython",
    "version": 3
   },
   "file_extension": ".py",
   "mimetype": "text/x-python",
   "name": "python",
   "nbconvert_exporter": "python",
   "pygments_lexer": "ipython3",
   "version": "3.9.12"
  }
 },
 "nbformat": 4,
 "nbformat_minor": 5
}
