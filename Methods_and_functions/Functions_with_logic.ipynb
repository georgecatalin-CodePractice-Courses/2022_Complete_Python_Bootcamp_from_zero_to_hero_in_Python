{
 "cells": [
  {
   "cell_type": "code",
   "execution_count": 1,
   "id": "1ba5a04b",
   "metadata": {},
   "outputs": [],
   "source": [
    "def even_check(number):\n",
    "    result = number %2 ==0\n",
    "    return result"
   ]
  },
  {
   "cell_type": "code",
   "execution_count": 2,
   "id": "96a56a6c",
   "metadata": {},
   "outputs": [
    {
     "data": {
      "text/plain": [
       "True"
      ]
     },
     "execution_count": 2,
     "metadata": {},
     "output_type": "execute_result"
    }
   ],
   "source": [
    "even_check(20)"
   ]
  },
  {
   "cell_type": "code",
   "execution_count": 3,
   "id": "f6eced2b",
   "metadata": {},
   "outputs": [
    {
     "data": {
      "text/plain": [
       "False"
      ]
     },
     "execution_count": 3,
     "metadata": {},
     "output_type": "execute_result"
    }
   ],
   "source": [
    "even_check(21)"
   ]
  },
  {
   "cell_type": "markdown",
   "id": "525bd5fd",
   "metadata": {},
   "source": [
    "writing the same function simplified"
   ]
  },
  {
   "cell_type": "code",
   "execution_count": 4,
   "id": "1efb0591",
   "metadata": {},
   "outputs": [],
   "source": [
    "def even_check(number):\n",
    "    return number%2==0"
   ]
  },
  {
   "cell_type": "code",
   "execution_count": 5,
   "id": "51230425",
   "metadata": {},
   "outputs": [
    {
     "data": {
      "text/plain": [
       "True"
      ]
     },
     "execution_count": 5,
     "metadata": {},
     "output_type": "execute_result"
    }
   ],
   "source": [
    "even_check(20)"
   ]
  },
  {
   "cell_type": "code",
   "execution_count": 6,
   "id": "9fe9d318",
   "metadata": {},
   "outputs": [
    {
     "data": {
      "text/plain": [
       "False"
      ]
     },
     "execution_count": 6,
     "metadata": {},
     "output_type": "execute_result"
    }
   ],
   "source": [
    "even_check(21)"
   ]
  },
  {
   "cell_type": "markdown",
   "id": "0dba0969",
   "metadata": {},
   "source": [
    "writing a function to check a list of numbers for odd or even"
   ]
  },
  {
   "cell_type": "code",
   "execution_count": 13,
   "id": "c7c36b6c",
   "metadata": {},
   "outputs": [],
   "source": [
    "def list_even_check(my_list):\n",
    "    for item in my_list:\n",
    "        if item %2 ==0:\n",
    "            return True\n",
    "        else:\n",
    "            return False # the code logic is not correct as it breaks out of the function after the 1st element of the list\n",
    "        "
   ]
  },
  {
   "cell_type": "code",
   "execution_count": 8,
   "id": "fd47cd8e",
   "metadata": {},
   "outputs": [
    {
     "data": {
      "text/plain": [
       "False"
      ]
     },
     "execution_count": 8,
     "metadata": {},
     "output_type": "execute_result"
    }
   ],
   "source": [
    "list_even_check([1,3,4])"
   ]
  },
  {
   "cell_type": "code",
   "execution_count": 10,
   "id": "8dc2d077",
   "metadata": {},
   "outputs": [
    {
     "data": {
      "text/plain": [
       "True"
      ]
     },
     "execution_count": 10,
     "metadata": {},
     "output_type": "execute_result"
    }
   ],
   "source": [
    "list_even_check([2,4,6])"
   ]
  },
  {
   "cell_type": "code",
   "execution_count": 11,
   "id": "aa670ad2",
   "metadata": {},
   "outputs": [
    {
     "data": {
      "text/plain": [
       "True"
      ]
     },
     "execution_count": 11,
     "metadata": {},
     "output_type": "execute_result"
    }
   ],
   "source": [
    "list_even_check([2,4,3])"
   ]
  },
  {
   "cell_type": "code",
   "execution_count": 12,
   "id": "58bb8f51",
   "metadata": {},
   "outputs": [
    {
     "data": {
      "text/plain": [
       "False"
      ]
     },
     "execution_count": 12,
     "metadata": {},
     "output_type": "execute_result"
    }
   ],
   "source": [
    "list_even_check([1,2,5])"
   ]
  },
  {
   "cell_type": "code",
   "execution_count": 19,
   "id": "2872cc7b",
   "metadata": {},
   "outputs": [],
   "source": [
    "def list_even_check(my_list):\n",
    "    for item in my_list:\n",
    "        if item %2==0:\n",
    "            return True # it breaks out of the function anytime if found an even number\n",
    "        else:\n",
    "            pass\n",
    "    return False"
   ]
  },
  {
   "cell_type": "code",
   "execution_count": 20,
   "id": "6f9d27bc",
   "metadata": {},
   "outputs": [
    {
     "data": {
      "text/plain": [
       "True"
      ]
     },
     "execution_count": 20,
     "metadata": {},
     "output_type": "execute_result"
    }
   ],
   "source": [
    "list_even_check([2,4,6])"
   ]
  },
  {
   "cell_type": "code",
   "execution_count": 17,
   "id": "f353eeb6",
   "metadata": {},
   "outputs": [
    {
     "data": {
      "text/plain": [
       "True"
      ]
     },
     "execution_count": 17,
     "metadata": {},
     "output_type": "execute_result"
    }
   ],
   "source": [
    "list_even_check([2,3,4])"
   ]
  },
  {
   "cell_type": "code",
   "execution_count": 18,
   "id": "5a18e2ba",
   "metadata": {},
   "outputs": [
    {
     "data": {
      "text/plain": [
       "True"
      ]
     },
     "execution_count": 18,
     "metadata": {},
     "output_type": "execute_result"
    }
   ],
   "source": [
    "list_even_check([1,4,5])"
   ]
  },
  {
   "cell_type": "code",
   "execution_count": null,
   "id": "7a093e8b",
   "metadata": {},
   "outputs": [],
   "source": []
  }
 ],
 "metadata": {
  "kernelspec": {
   "display_name": "Python 3 (ipykernel)",
   "language": "python",
   "name": "python3"
  },
  "language_info": {
   "codemirror_mode": {
    "name": "ipython",
    "version": 3
   },
   "file_extension": ".py",
   "mimetype": "text/x-python",
   "name": "python",
   "nbconvert_exporter": "python",
   "pygments_lexer": "ipython3",
   "version": "3.9.12"
  }
 },
 "nbformat": 4,
 "nbformat_minor": 5
}
