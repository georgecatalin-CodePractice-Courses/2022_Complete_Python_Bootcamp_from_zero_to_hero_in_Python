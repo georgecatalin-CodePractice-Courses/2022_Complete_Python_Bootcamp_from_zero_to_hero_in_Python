{
 "cells": [
  {
   "cell_type": "markdown",
   "id": "defebe02",
   "metadata": {},
   "source": [
    "# Understand the map() function"
   ]
  },
  {
   "cell_type": "code",
   "execution_count": 1,
   "id": "e888001a",
   "metadata": {},
   "outputs": [],
   "source": [
    "def simple_function(number):\n",
    "    return number**2"
   ]
  },
  {
   "cell_type": "code",
   "execution_count": 2,
   "id": "3b1cbf18",
   "metadata": {},
   "outputs": [],
   "source": [
    "my_list_iterable = [1,2,3,4,5,6,7]"
   ]
  },
  {
   "cell_type": "code",
   "execution_count": 3,
   "id": "42530625",
   "metadata": {},
   "outputs": [
    {
     "data": {
      "text/plain": [
       "[1, 4, 9, 16, 25, 36, 49]"
      ]
     },
     "execution_count": 3,
     "metadata": {},
     "output_type": "execute_result"
    }
   ],
   "source": [
    "list(map(simple_function,my_list_iterable))"
   ]
  },
  {
   "cell_type": "code",
   "execution_count": 5,
   "id": "9693189d",
   "metadata": {},
   "outputs": [
    {
     "name": "stdout",
     "output_type": "stream",
     "text": [
      "1\n",
      "4\n",
      "9\n",
      "16\n",
      "25\n",
      "36\n",
      "49\n"
     ]
    }
   ],
   "source": [
    "for item in map(simple_function,my_list_iterable):\n",
    "    print(item)"
   ]
  },
  {
   "cell_type": "markdown",
   "id": "5534d0f2",
   "metadata": {},
   "source": [
    "Example #2"
   ]
  },
  {
   "cell_type": "code",
   "execution_count": 10,
   "id": "d32e99ab",
   "metadata": {},
   "outputs": [],
   "source": [
    "def function_with_strings(my_string):\n",
    "    if len(my_string)%2 ==0:\n",
    "        return \"Even\"\n",
    "    else:\n",
    "        return my_string[0]\n",
    "    "
   ]
  },
  {
   "cell_type": "code",
   "execution_count": 11,
   "id": "279532b1",
   "metadata": {},
   "outputs": [],
   "source": [
    "my_list_strings_iterable = [\"George\", \"Calin\", \"Mara\"]"
   ]
  },
  {
   "cell_type": "code",
   "execution_count": 12,
   "id": "1b0b9f4a",
   "metadata": {},
   "outputs": [
    {
     "data": {
      "text/plain": [
       "['Even', 'C', 'Even']"
      ]
     },
     "execution_count": 12,
     "metadata": {},
     "output_type": "execute_result"
    }
   ],
   "source": [
    "list(map(function_with_strings,my_list_strings_iterable))"
   ]
  },
  {
   "cell_type": "markdown",
   "id": "04003bc7",
   "metadata": {},
   "source": [
    "## Understand the filter() function"
   ]
  },
  {
   "cell_type": "code",
   "execution_count": 13,
   "id": "11547566",
   "metadata": {},
   "outputs": [],
   "source": [
    "def is_even(number):\n",
    "    return number % 2 == 0\n",
    "\n"
   ]
  },
  {
   "cell_type": "code",
   "execution_count": 14,
   "id": "2f02f9fa",
   "metadata": {},
   "outputs": [],
   "source": [
    "my_list_to_filter = [1,2,3,4,5,6,7,8]"
   ]
  },
  {
   "cell_type": "code",
   "execution_count": 15,
   "id": "34aa43ef",
   "metadata": {},
   "outputs": [
    {
     "data": {
      "text/plain": [
       "<filter at 0x2c390584610>"
      ]
     },
     "execution_count": 15,
     "metadata": {},
     "output_type": "execute_result"
    }
   ],
   "source": [
    "filter(is_even,my_list_to_filter)"
   ]
  },
  {
   "cell_type": "markdown",
   "id": "2e969372",
   "metadata": {},
   "source": [
    "it says there is a filter object at that memory location"
   ]
  },
  {
   "cell_type": "code",
   "execution_count": 16,
   "id": "843010b7",
   "metadata": {},
   "outputs": [
    {
     "data": {
      "text/plain": [
       "[2, 4, 6, 8]"
      ]
     },
     "execution_count": 16,
     "metadata": {},
     "output_type": "execute_result"
    }
   ],
   "source": [
    "list(filter(is_even,my_list_to_filter))"
   ]
  },
  {
   "cell_type": "code",
   "execution_count": 17,
   "id": "38f4de1a",
   "metadata": {},
   "outputs": [
    {
     "name": "stdout",
     "output_type": "stream",
     "text": [
      "2\n",
      "4\n",
      "6\n",
      "8\n"
     ]
    }
   ],
   "source": [
    "for item in filter(is_even,my_list_to_filter):\n",
    "    print(item)"
   ]
  },
  {
   "cell_type": "markdown",
   "id": "f3037981",
   "metadata": {},
   "source": [
    "## Understand lambda in Python"
   ]
  },
  {
   "cell_type": "code",
   "execution_count": 18,
   "id": "69433c1b",
   "metadata": {},
   "outputs": [],
   "source": [
    "def square_number(number):\n",
    "    return number ** 2"
   ]
  },
  {
   "cell_type": "code",
   "execution_count": 19,
   "id": "ec00c695",
   "metadata": {},
   "outputs": [
    {
     "data": {
      "text/plain": [
       "25"
      ]
     },
     "execution_count": 19,
     "metadata": {},
     "output_type": "execute_result"
    }
   ],
   "source": [
    "square_number(5)"
   ]
  },
  {
   "cell_type": "markdown",
   "id": "adcdd9c0",
   "metadata": {},
   "source": [
    "converting to lambda expression"
   ]
  },
  {
   "cell_type": "code",
   "execution_count": 20,
   "id": "e5c3ea92",
   "metadata": {},
   "outputs": [],
   "source": [
    "def square_number(number) : return number ** 2"
   ]
  },
  {
   "cell_type": "code",
   "execution_count": 21,
   "id": "5e46a99a",
   "metadata": {},
   "outputs": [
    {
     "data": {
      "text/plain": [
       "36"
      ]
     },
     "execution_count": 21,
     "metadata": {},
     "output_type": "execute_result"
    }
   ],
   "source": [
    "square_number(6)"
   ]
  },
  {
   "cell_type": "code",
   "execution_count": 22,
   "id": "13919821",
   "metadata": {},
   "outputs": [
    {
     "data": {
      "text/plain": [
       "<function __main__.<lambda>(number)>"
      ]
     },
     "execution_count": 22,
     "metadata": {},
     "output_type": "execute_result"
    }
   ],
   "source": [
    "lambda number : number ** 2"
   ]
  },
  {
   "cell_type": "code",
   "execution_count": 24,
   "id": "780ed38f",
   "metadata": {},
   "outputs": [
    {
     "data": {
      "text/plain": [
       "[1, 4, 9, 16, 25, 36, 49]"
      ]
     },
     "execution_count": 24,
     "metadata": {},
     "output_type": "execute_result"
    }
   ],
   "source": [
    "list(map(lambda number : number ** 2, my_list_iterable))"
   ]
  },
  {
   "cell_type": "markdown",
   "id": "3e780b59",
   "metadata": {},
   "source": [
    "use the lambda expression with the filter function"
   ]
  },
  {
   "cell_type": "code",
   "execution_count": 26,
   "id": "8b033a93",
   "metadata": {},
   "outputs": [],
   "source": [
    "def check_even(number):\n",
    "    result = number % 2 == 0\n",
    "    return result"
   ]
  },
  {
   "cell_type": "code",
   "execution_count": 27,
   "id": "be535899",
   "metadata": {},
   "outputs": [
    {
     "data": {
      "text/plain": [
       "False"
      ]
     },
     "execution_count": 27,
     "metadata": {},
     "output_type": "execute_result"
    }
   ],
   "source": [
    "check_even(3)\n"
   ]
  },
  {
   "cell_type": "code",
   "execution_count": 28,
   "id": "bab5f90f",
   "metadata": {},
   "outputs": [],
   "source": [
    "def check_even(number):\n",
    "    return number % 2 == 0"
   ]
  },
  {
   "cell_type": "code",
   "execution_count": 29,
   "id": "abb8d6b1",
   "metadata": {},
   "outputs": [
    {
     "data": {
      "text/plain": [
       "True"
      ]
     },
     "execution_count": 29,
     "metadata": {},
     "output_type": "execute_result"
    }
   ],
   "source": [
    "check_even(4)"
   ]
  },
  {
   "cell_type": "code",
   "execution_count": 30,
   "id": "434c6f89",
   "metadata": {},
   "outputs": [],
   "source": [
    "def check_even(number): return number % 2 == 0"
   ]
  },
  {
   "cell_type": "code",
   "execution_count": 31,
   "id": "0fb33538",
   "metadata": {},
   "outputs": [
    {
     "data": {
      "text/plain": [
       "False"
      ]
     },
     "execution_count": 31,
     "metadata": {},
     "output_type": "execute_result"
    }
   ],
   "source": [
    "check_even(5)"
   ]
  },
  {
   "cell_type": "code",
   "execution_count": 32,
   "id": "16169d93",
   "metadata": {},
   "outputs": [
    {
     "data": {
      "text/plain": [
       "<function __main__.<lambda>(number)>"
      ]
     },
     "execution_count": 32,
     "metadata": {},
     "output_type": "execute_result"
    }
   ],
   "source": [
    "lambda number : number % 2 == 0\n"
   ]
  },
  {
   "cell_type": "code",
   "execution_count": 35,
   "id": "34abbe35",
   "metadata": {},
   "outputs": [
    {
     "data": {
      "text/plain": [
       "[2, 4, 6]"
      ]
     },
     "execution_count": 35,
     "metadata": {},
     "output_type": "execute_result"
    }
   ],
   "source": [
    "list(filter(lambda number : number % 2 == 0, my_list_iterable))"
   ]
  },
  {
   "cell_type": "markdown",
   "id": "b8731c7e",
   "metadata": {},
   "source": [
    "An actual example of using lambda expression"
   ]
  },
  {
   "cell_type": "markdown",
   "id": "3be41754",
   "metadata": {},
   "source": [
    "get the first character of the words"
   ]
  },
  {
   "cell_type": "code",
   "execution_count": 38,
   "id": "9ccc4051",
   "metadata": {},
   "outputs": [],
   "source": [
    "employees = [ \"George\", \"Cornel\", \"Pavel\" ,\"Alex\"]"
   ]
  },
  {
   "cell_type": "code",
   "execution_count": 40,
   "id": "8b368122",
   "metadata": {},
   "outputs": [
    {
     "data": {
      "text/plain": [
       "['G', 'C', 'P', 'A']"
      ]
     },
     "execution_count": 40,
     "metadata": {},
     "output_type": "execute_result"
    }
   ],
   "source": [
    "list(map(lambda name:name[0],employees))"
   ]
  },
  {
   "cell_type": "markdown",
   "id": "d414780b",
   "metadata": {},
   "source": [
    "    get the words in reverse mode"
   ]
  },
  {
   "cell_type": "code",
   "execution_count": 41,
   "id": "4209eb84",
   "metadata": {},
   "outputs": [
    {
     "data": {
      "text/plain": [
       "['egroeG', 'lenroC', 'levaP', 'xelA']"
      ]
     },
     "execution_count": 41,
     "metadata": {},
     "output_type": "execute_result"
    }
   ],
   "source": [
    "list(map(lambda name: name[::-1],employees))"
   ]
  },
  {
   "cell_type": "code",
   "execution_count": null,
   "id": "fe4bb464",
   "metadata": {},
   "outputs": [],
   "source": []
  }
 ],
 "metadata": {
  "kernelspec": {
   "display_name": "Python 3 (ipykernel)",
   "language": "python",
   "name": "python3"
  },
  "language_info": {
   "codemirror_mode": {
    "name": "ipython",
    "version": 3
   },
   "file_extension": ".py",
   "mimetype": "text/x-python",
   "name": "python",
   "nbconvert_exporter": "python",
   "pygments_lexer": "ipython3",
   "version": "3.9.12"
  }
 },
 "nbformat": 4,
 "nbformat_minor": 5
}
